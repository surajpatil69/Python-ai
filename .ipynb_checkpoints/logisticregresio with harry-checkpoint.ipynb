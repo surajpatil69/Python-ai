{
 "cells": [
  {
   "cell_type": "code",
   "execution_count": 19,
   "id": "1794c61b",
   "metadata": {},
   "outputs": [],
   "source": [
    "from sklearn import datasets\n",
    "import numpy as np\n",
    "from sklearn.linear_model import LogisticRegression\n"
   ]
  },
  {
   "cell_type": "code",
   "execution_count": 20,
   "id": "4f1d401a",
   "metadata": {},
   "outputs": [],
   "source": [
    "import matplotlib.pyplot as plt"
   ]
  },
  {
   "cell_type": "code",
   "execution_count": 21,
   "id": "c0afeafa",
   "metadata": {},
   "outputs": [],
   "source": [
    "iris =datasets.load_iris()"
   ]
  },
  {
   "cell_type": "code",
   "execution_count": 22,
   "id": "2481cbed",
   "metadata": {},
   "outputs": [
    {
     "data": {
      "text/plain": [
       "['data',\n",
       " 'target',\n",
       " 'frame',\n",
       " 'target_names',\n",
       " 'DESCR',\n",
       " 'feature_names',\n",
       " 'filename']"
      ]
     },
     "execution_count": 22,
     "metadata": {},
     "output_type": "execute_result"
    }
   ],
   "source": [
    "list(iris.keys())"
   ]
  },
  {
   "cell_type": "code",
   "execution_count": 23,
   "id": "a92aa627",
   "metadata": {},
   "outputs": [
    {
     "data": {
      "text/plain": [
       "array([[5.1, 3.5, 1.4, 0.2],\n",
       "       [4.9, 3. , 1.4, 0.2],\n",
       "       [4.7, 3.2, 1.3, 0.2],\n",
       "       [4.6, 3.1, 1.5, 0.2],\n",
       "       [5. , 3.6, 1.4, 0.2],\n",
       "       [5.4, 3.9, 1.7, 0.4],\n",
       "       [4.6, 3.4, 1.4, 0.3],\n",
       "       [5. , 3.4, 1.5, 0.2],\n",
       "       [4.4, 2.9, 1.4, 0.2],\n",
       "       [4.9, 3.1, 1.5, 0.1],\n",
       "       [5.4, 3.7, 1.5, 0.2],\n",
       "       [4.8, 3.4, 1.6, 0.2],\n",
       "       [4.8, 3. , 1.4, 0.1],\n",
       "       [4.3, 3. , 1.1, 0.1],\n",
       "       [5.8, 4. , 1.2, 0.2],\n",
       "       [5.7, 4.4, 1.5, 0.4],\n",
       "       [5.4, 3.9, 1.3, 0.4],\n",
       "       [5.1, 3.5, 1.4, 0.3],\n",
       "       [5.7, 3.8, 1.7, 0.3],\n",
       "       [5.1, 3.8, 1.5, 0.3],\n",
       "       [5.4, 3.4, 1.7, 0.2],\n",
       "       [5.1, 3.7, 1.5, 0.4],\n",
       "       [4.6, 3.6, 1. , 0.2],\n",
       "       [5.1, 3.3, 1.7, 0.5],\n",
       "       [4.8, 3.4, 1.9, 0.2],\n",
       "       [5. , 3. , 1.6, 0.2],\n",
       "       [5. , 3.4, 1.6, 0.4],\n",
       "       [5.2, 3.5, 1.5, 0.2],\n",
       "       [5.2, 3.4, 1.4, 0.2],\n",
       "       [4.7, 3.2, 1.6, 0.2],\n",
       "       [4.8, 3.1, 1.6, 0.2],\n",
       "       [5.4, 3.4, 1.5, 0.4],\n",
       "       [5.2, 4.1, 1.5, 0.1],\n",
       "       [5.5, 4.2, 1.4, 0.2],\n",
       "       [4.9, 3.1, 1.5, 0.2],\n",
       "       [5. , 3.2, 1.2, 0.2],\n",
       "       [5.5, 3.5, 1.3, 0.2],\n",
       "       [4.9, 3.6, 1.4, 0.1],\n",
       "       [4.4, 3. , 1.3, 0.2],\n",
       "       [5.1, 3.4, 1.5, 0.2],\n",
       "       [5. , 3.5, 1.3, 0.3],\n",
       "       [4.5, 2.3, 1.3, 0.3],\n",
       "       [4.4, 3.2, 1.3, 0.2],\n",
       "       [5. , 3.5, 1.6, 0.6],\n",
       "       [5.1, 3.8, 1.9, 0.4],\n",
       "       [4.8, 3. , 1.4, 0.3],\n",
       "       [5.1, 3.8, 1.6, 0.2],\n",
       "       [4.6, 3.2, 1.4, 0.2],\n",
       "       [5.3, 3.7, 1.5, 0.2],\n",
       "       [5. , 3.3, 1.4, 0.2],\n",
       "       [7. , 3.2, 4.7, 1.4],\n",
       "       [6.4, 3.2, 4.5, 1.5],\n",
       "       [6.9, 3.1, 4.9, 1.5],\n",
       "       [5.5, 2.3, 4. , 1.3],\n",
       "       [6.5, 2.8, 4.6, 1.5],\n",
       "       [5.7, 2.8, 4.5, 1.3],\n",
       "       [6.3, 3.3, 4.7, 1.6],\n",
       "       [4.9, 2.4, 3.3, 1. ],\n",
       "       [6.6, 2.9, 4.6, 1.3],\n",
       "       [5.2, 2.7, 3.9, 1.4],\n",
       "       [5. , 2. , 3.5, 1. ],\n",
       "       [5.9, 3. , 4.2, 1.5],\n",
       "       [6. , 2.2, 4. , 1. ],\n",
       "       [6.1, 2.9, 4.7, 1.4],\n",
       "       [5.6, 2.9, 3.6, 1.3],\n",
       "       [6.7, 3.1, 4.4, 1.4],\n",
       "       [5.6, 3. , 4.5, 1.5],\n",
       "       [5.8, 2.7, 4.1, 1. ],\n",
       "       [6.2, 2.2, 4.5, 1.5],\n",
       "       [5.6, 2.5, 3.9, 1.1],\n",
       "       [5.9, 3.2, 4.8, 1.8],\n",
       "       [6.1, 2.8, 4. , 1.3],\n",
       "       [6.3, 2.5, 4.9, 1.5],\n",
       "       [6.1, 2.8, 4.7, 1.2],\n",
       "       [6.4, 2.9, 4.3, 1.3],\n",
       "       [6.6, 3. , 4.4, 1.4],\n",
       "       [6.8, 2.8, 4.8, 1.4],\n",
       "       [6.7, 3. , 5. , 1.7],\n",
       "       [6. , 2.9, 4.5, 1.5],\n",
       "       [5.7, 2.6, 3.5, 1. ],\n",
       "       [5.5, 2.4, 3.8, 1.1],\n",
       "       [5.5, 2.4, 3.7, 1. ],\n",
       "       [5.8, 2.7, 3.9, 1.2],\n",
       "       [6. , 2.7, 5.1, 1.6],\n",
       "       [5.4, 3. , 4.5, 1.5],\n",
       "       [6. , 3.4, 4.5, 1.6],\n",
       "       [6.7, 3.1, 4.7, 1.5],\n",
       "       [6.3, 2.3, 4.4, 1.3],\n",
       "       [5.6, 3. , 4.1, 1.3],\n",
       "       [5.5, 2.5, 4. , 1.3],\n",
       "       [5.5, 2.6, 4.4, 1.2],\n",
       "       [6.1, 3. , 4.6, 1.4],\n",
       "       [5.8, 2.6, 4. , 1.2],\n",
       "       [5. , 2.3, 3.3, 1. ],\n",
       "       [5.6, 2.7, 4.2, 1.3],\n",
       "       [5.7, 3. , 4.2, 1.2],\n",
       "       [5.7, 2.9, 4.2, 1.3],\n",
       "       [6.2, 2.9, 4.3, 1.3],\n",
       "       [5.1, 2.5, 3. , 1.1],\n",
       "       [5.7, 2.8, 4.1, 1.3],\n",
       "       [6.3, 3.3, 6. , 2.5],\n",
       "       [5.8, 2.7, 5.1, 1.9],\n",
       "       [7.1, 3. , 5.9, 2.1],\n",
       "       [6.3, 2.9, 5.6, 1.8],\n",
       "       [6.5, 3. , 5.8, 2.2],\n",
       "       [7.6, 3. , 6.6, 2.1],\n",
       "       [4.9, 2.5, 4.5, 1.7],\n",
       "       [7.3, 2.9, 6.3, 1.8],\n",
       "       [6.7, 2.5, 5.8, 1.8],\n",
       "       [7.2, 3.6, 6.1, 2.5],\n",
       "       [6.5, 3.2, 5.1, 2. ],\n",
       "       [6.4, 2.7, 5.3, 1.9],\n",
       "       [6.8, 3. , 5.5, 2.1],\n",
       "       [5.7, 2.5, 5. , 2. ],\n",
       "       [5.8, 2.8, 5.1, 2.4],\n",
       "       [6.4, 3.2, 5.3, 2.3],\n",
       "       [6.5, 3. , 5.5, 1.8],\n",
       "       [7.7, 3.8, 6.7, 2.2],\n",
       "       [7.7, 2.6, 6.9, 2.3],\n",
       "       [6. , 2.2, 5. , 1.5],\n",
       "       [6.9, 3.2, 5.7, 2.3],\n",
       "       [5.6, 2.8, 4.9, 2. ],\n",
       "       [7.7, 2.8, 6.7, 2. ],\n",
       "       [6.3, 2.7, 4.9, 1.8],\n",
       "       [6.7, 3.3, 5.7, 2.1],\n",
       "       [7.2, 3.2, 6. , 1.8],\n",
       "       [6.2, 2.8, 4.8, 1.8],\n",
       "       [6.1, 3. , 4.9, 1.8],\n",
       "       [6.4, 2.8, 5.6, 2.1],\n",
       "       [7.2, 3. , 5.8, 1.6],\n",
       "       [7.4, 2.8, 6.1, 1.9],\n",
       "       [7.9, 3.8, 6.4, 2. ],\n",
       "       [6.4, 2.8, 5.6, 2.2],\n",
       "       [6.3, 2.8, 5.1, 1.5],\n",
       "       [6.1, 2.6, 5.6, 1.4],\n",
       "       [7.7, 3. , 6.1, 2.3],\n",
       "       [6.3, 3.4, 5.6, 2.4],\n",
       "       [6.4, 3.1, 5.5, 1.8],\n",
       "       [6. , 3. , 4.8, 1.8],\n",
       "       [6.9, 3.1, 5.4, 2.1],\n",
       "       [6.7, 3.1, 5.6, 2.4],\n",
       "       [6.9, 3.1, 5.1, 2.3],\n",
       "       [5.8, 2.7, 5.1, 1.9],\n",
       "       [6.8, 3.2, 5.9, 2.3],\n",
       "       [6.7, 3.3, 5.7, 2.5],\n",
       "       [6.7, 3. , 5.2, 2.3],\n",
       "       [6.3, 2.5, 5. , 1.9],\n",
       "       [6.5, 3. , 5.2, 2. ],\n",
       "       [6.2, 3.4, 5.4, 2.3],\n",
       "       [5.9, 3. , 5.1, 1.8]])"
      ]
     },
     "execution_count": 23,
     "metadata": {},
     "output_type": "execute_result"
    }
   ],
   "source": [
    "iris['data']"
   ]
  },
  {
   "cell_type": "code",
   "execution_count": 24,
   "id": "650b3a81",
   "metadata": {},
   "outputs": [
    {
     "data": {
      "text/plain": [
       "array([0, 0, 0, 0, 0, 0, 0, 0, 0, 0, 0, 0, 0, 0, 0, 0, 0, 0, 0, 0, 0, 0,\n",
       "       0, 0, 0, 0, 0, 0, 0, 0, 0, 0, 0, 0, 0, 0, 0, 0, 0, 0, 0, 0, 0, 0,\n",
       "       0, 0, 0, 0, 0, 0, 1, 1, 1, 1, 1, 1, 1, 1, 1, 1, 1, 1, 1, 1, 1, 1,\n",
       "       1, 1, 1, 1, 1, 1, 1, 1, 1, 1, 1, 1, 1, 1, 1, 1, 1, 1, 1, 1, 1, 1,\n",
       "       1, 1, 1, 1, 1, 1, 1, 1, 1, 1, 1, 1, 2, 2, 2, 2, 2, 2, 2, 2, 2, 2,\n",
       "       2, 2, 2, 2, 2, 2, 2, 2, 2, 2, 2, 2, 2, 2, 2, 2, 2, 2, 2, 2, 2, 2,\n",
       "       2, 2, 2, 2, 2, 2, 2, 2, 2, 2, 2, 2, 2, 2, 2, 2, 2, 2])"
      ]
     },
     "execution_count": 24,
     "metadata": {},
     "output_type": "execute_result"
    }
   ],
   "source": [
    "iris['target']"
   ]
  },
  {
   "cell_type": "code",
   "execution_count": 25,
   "id": "942c09b8",
   "metadata": {},
   "outputs": [
    {
     "data": {
      "text/plain": [
       "'.. _iris_dataset:\\n\\nIris plants dataset\\n--------------------\\n\\n**Data Set Characteristics:**\\n\\n    :Number of Instances: 150 (50 in each of three classes)\\n    :Number of Attributes: 4 numeric, predictive attributes and the class\\n    :Attribute Information:\\n        - sepal length in cm\\n        - sepal width in cm\\n        - petal length in cm\\n        - petal width in cm\\n        - class:\\n                - Iris-Setosa\\n                - Iris-Versicolour\\n                - Iris-Virginica\\n                \\n    :Summary Statistics:\\n\\n    ============== ==== ==== ======= ===== ====================\\n                    Min  Max   Mean    SD   Class Correlation\\n    ============== ==== ==== ======= ===== ====================\\n    sepal length:   4.3  7.9   5.84   0.83    0.7826\\n    sepal width:    2.0  4.4   3.05   0.43   -0.4194\\n    petal length:   1.0  6.9   3.76   1.76    0.9490  (high!)\\n    petal width:    0.1  2.5   1.20   0.76    0.9565  (high!)\\n    ============== ==== ==== ======= ===== ====================\\n\\n    :Missing Attribute Values: None\\n    :Class Distribution: 33.3% for each of 3 classes.\\n    :Creator: R.A. Fisher\\n    :Donor: Michael Marshall (MARSHALL%PLU@io.arc.nasa.gov)\\n    :Date: July, 1988\\n\\nThe famous Iris database, first used by Sir R.A. Fisher. The dataset is taken\\nfrom Fisher\\'s paper. Note that it\\'s the same as in R, but not as in the UCI\\nMachine Learning Repository, which has two wrong data points.\\n\\nThis is perhaps the best known database to be found in the\\npattern recognition literature.  Fisher\\'s paper is a classic in the field and\\nis referenced frequently to this day.  (See Duda & Hart, for example.)  The\\ndata set contains 3 classes of 50 instances each, where each class refers to a\\ntype of iris plant.  One class is linearly separable from the other 2; the\\nlatter are NOT linearly separable from each other.\\n\\n.. topic:: References\\n\\n   - Fisher, R.A. \"The use of multiple measurements in taxonomic problems\"\\n     Annual Eugenics, 7, Part II, 179-188 (1936); also in \"Contributions to\\n     Mathematical Statistics\" (John Wiley, NY, 1950).\\n   - Duda, R.O., & Hart, P.E. (1973) Pattern Classification and Scene Analysis.\\n     (Q327.D83) John Wiley & Sons.  ISBN 0-471-22361-1.  See page 218.\\n   - Dasarathy, B.V. (1980) \"Nosing Around the Neighborhood: A New System\\n     Structure and Classification Rule for Recognition in Partially Exposed\\n     Environments\".  IEEE Transactions on Pattern Analysis and Machine\\n     Intelligence, Vol. PAMI-2, No. 1, 67-71.\\n   - Gates, G.W. (1972) \"The Reduced Nearest Neighbor Rule\".  IEEE Transactions\\n     on Information Theory, May 1972, 431-433.\\n   - See also: 1988 MLC Proceedings, 54-64.  Cheeseman et al\"s AUTOCLASS II\\n     conceptual clustering system finds 3 classes in the data.\\n   - Many, many more ...'"
      ]
     },
     "execution_count": 25,
     "metadata": {},
     "output_type": "execute_result"
    }
   ],
   "source": [
    "iris['DESCR']"
   ]
  },
  {
   "cell_type": "code",
   "execution_count": 26,
   "id": "90b4cfcb",
   "metadata": {},
   "outputs": [
    {
     "data": {
      "text/plain": [
       "(150, 4)"
      ]
     },
     "execution_count": 26,
     "metadata": {},
     "output_type": "execute_result"
    }
   ],
   "source": [
    "iris['data'].shape"
   ]
  },
  {
   "cell_type": "code",
   "execution_count": 27,
   "id": "2a247140",
   "metadata": {},
   "outputs": [],
   "source": [
    "x= iris['data'][:,3:]"
   ]
  },
  {
   "cell_type": "code",
   "execution_count": 28,
   "id": "9cd68d06",
   "metadata": {},
   "outputs": [
    {
     "data": {
      "text/plain": [
       "array([[0.2],\n",
       "       [0.2],\n",
       "       [0.2],\n",
       "       [0.2],\n",
       "       [0.2],\n",
       "       [0.4],\n",
       "       [0.3],\n",
       "       [0.2],\n",
       "       [0.2],\n",
       "       [0.1],\n",
       "       [0.2],\n",
       "       [0.2],\n",
       "       [0.1],\n",
       "       [0.1],\n",
       "       [0.2],\n",
       "       [0.4],\n",
       "       [0.4],\n",
       "       [0.3],\n",
       "       [0.3],\n",
       "       [0.3],\n",
       "       [0.2],\n",
       "       [0.4],\n",
       "       [0.2],\n",
       "       [0.5],\n",
       "       [0.2],\n",
       "       [0.2],\n",
       "       [0.4],\n",
       "       [0.2],\n",
       "       [0.2],\n",
       "       [0.2],\n",
       "       [0.2],\n",
       "       [0.4],\n",
       "       [0.1],\n",
       "       [0.2],\n",
       "       [0.2],\n",
       "       [0.2],\n",
       "       [0.2],\n",
       "       [0.1],\n",
       "       [0.2],\n",
       "       [0.2],\n",
       "       [0.3],\n",
       "       [0.3],\n",
       "       [0.2],\n",
       "       [0.6],\n",
       "       [0.4],\n",
       "       [0.3],\n",
       "       [0.2],\n",
       "       [0.2],\n",
       "       [0.2],\n",
       "       [0.2],\n",
       "       [1.4],\n",
       "       [1.5],\n",
       "       [1.5],\n",
       "       [1.3],\n",
       "       [1.5],\n",
       "       [1.3],\n",
       "       [1.6],\n",
       "       [1. ],\n",
       "       [1.3],\n",
       "       [1.4],\n",
       "       [1. ],\n",
       "       [1.5],\n",
       "       [1. ],\n",
       "       [1.4],\n",
       "       [1.3],\n",
       "       [1.4],\n",
       "       [1.5],\n",
       "       [1. ],\n",
       "       [1.5],\n",
       "       [1.1],\n",
       "       [1.8],\n",
       "       [1.3],\n",
       "       [1.5],\n",
       "       [1.2],\n",
       "       [1.3],\n",
       "       [1.4],\n",
       "       [1.4],\n",
       "       [1.7],\n",
       "       [1.5],\n",
       "       [1. ],\n",
       "       [1.1],\n",
       "       [1. ],\n",
       "       [1.2],\n",
       "       [1.6],\n",
       "       [1.5],\n",
       "       [1.6],\n",
       "       [1.5],\n",
       "       [1.3],\n",
       "       [1.3],\n",
       "       [1.3],\n",
       "       [1.2],\n",
       "       [1.4],\n",
       "       [1.2],\n",
       "       [1. ],\n",
       "       [1.3],\n",
       "       [1.2],\n",
       "       [1.3],\n",
       "       [1.3],\n",
       "       [1.1],\n",
       "       [1.3],\n",
       "       [2.5],\n",
       "       [1.9],\n",
       "       [2.1],\n",
       "       [1.8],\n",
       "       [2.2],\n",
       "       [2.1],\n",
       "       [1.7],\n",
       "       [1.8],\n",
       "       [1.8],\n",
       "       [2.5],\n",
       "       [2. ],\n",
       "       [1.9],\n",
       "       [2.1],\n",
       "       [2. ],\n",
       "       [2.4],\n",
       "       [2.3],\n",
       "       [1.8],\n",
       "       [2.2],\n",
       "       [2.3],\n",
       "       [1.5],\n",
       "       [2.3],\n",
       "       [2. ],\n",
       "       [2. ],\n",
       "       [1.8],\n",
       "       [2.1],\n",
       "       [1.8],\n",
       "       [1.8],\n",
       "       [1.8],\n",
       "       [2.1],\n",
       "       [1.6],\n",
       "       [1.9],\n",
       "       [2. ],\n",
       "       [2.2],\n",
       "       [1.5],\n",
       "       [1.4],\n",
       "       [2.3],\n",
       "       [2.4],\n",
       "       [1.8],\n",
       "       [1.8],\n",
       "       [2.1],\n",
       "       [2.4],\n",
       "       [2.3],\n",
       "       [1.9],\n",
       "       [2.3],\n",
       "       [2.5],\n",
       "       [2.3],\n",
       "       [1.9],\n",
       "       [2. ],\n",
       "       [2.3],\n",
       "       [1.8]])"
      ]
     },
     "execution_count": 28,
     "metadata": {},
     "output_type": "execute_result"
    }
   ],
   "source": [
    "x"
   ]
  },
  {
   "cell_type": "code",
   "execution_count": 29,
   "id": "158933f2",
   "metadata": {},
   "outputs": [
    {
     "name": "stderr",
     "output_type": "stream",
     "text": [
      "<ipython-input-29-e7d7c39c6ba1>:1: DeprecationWarning: `np.int` is a deprecated alias for the builtin `int`. To silence this warning, use `int` by itself. Doing this will not modify any behavior and is safe. When replacing `np.int`, you may wish to use e.g. `np.int64` or `np.int32` to specify the precision. If you wish to review your current use, check the release note link for additional information.\n",
      "Deprecated in NumPy 1.20; for more details and guidance: https://numpy.org/devdocs/release/1.20.0-notes.html#deprecations\n",
      "  y=(iris['target']==2).astype(np.int)\n"
     ]
    }
   ],
   "source": [
    "y=(iris['target']==2).astype(np.int)"
   ]
  },
  {
   "cell_type": "code",
   "execution_count": 30,
   "id": "911ece20",
   "metadata": {},
   "outputs": [
    {
     "data": {
      "text/plain": [
       "array([0, 0, 0, 0, 0, 0, 0, 0, 0, 0, 0, 0, 0, 0, 0, 0, 0, 0, 0, 0, 0, 0,\n",
       "       0, 0, 0, 0, 0, 0, 0, 0, 0, 0, 0, 0, 0, 0, 0, 0, 0, 0, 0, 0, 0, 0,\n",
       "       0, 0, 0, 0, 0, 0, 0, 0, 0, 0, 0, 0, 0, 0, 0, 0, 0, 0, 0, 0, 0, 0,\n",
       "       0, 0, 0, 0, 0, 0, 0, 0, 0, 0, 0, 0, 0, 0, 0, 0, 0, 0, 0, 0, 0, 0,\n",
       "       0, 0, 0, 0, 0, 0, 0, 0, 0, 0, 0, 0, 1, 1, 1, 1, 1, 1, 1, 1, 1, 1,\n",
       "       1, 1, 1, 1, 1, 1, 1, 1, 1, 1, 1, 1, 1, 1, 1, 1, 1, 1, 1, 1, 1, 1,\n",
       "       1, 1, 1, 1, 1, 1, 1, 1, 1, 1, 1, 1, 1, 1, 1, 1, 1, 1])"
      ]
     },
     "execution_count": 30,
     "metadata": {},
     "output_type": "execute_result"
    }
   ],
   "source": [
    "y"
   ]
  },
  {
   "cell_type": "code",
   "execution_count": 31,
   "id": "94bf9aef",
   "metadata": {},
   "outputs": [],
   "source": [
    "#train a logistic regression classifier"
   ]
  },
  {
   "cell_type": "code",
   "execution_count": 32,
   "id": "78941a96",
   "metadata": {},
   "outputs": [],
   "source": [
    "clf= LogisticRegression()"
   ]
  },
  {
   "cell_type": "code",
   "execution_count": 33,
   "id": "957a5717",
   "metadata": {},
   "outputs": [
    {
     "data": {
      "text/plain": [
       "LogisticRegression()"
      ]
     },
     "execution_count": 33,
     "metadata": {},
     "output_type": "execute_result"
    }
   ],
   "source": [
    "clf.fit(x,y)"
   ]
  },
  {
   "cell_type": "code",
   "execution_count": 34,
   "id": "63f1b41a",
   "metadata": {},
   "outputs": [],
   "source": [
    "example= clf.predict(([[2.6]]))"
   ]
  },
  {
   "cell_type": "code",
   "execution_count": 35,
   "id": "b1a8abb9",
   "metadata": {},
   "outputs": [
    {
     "data": {
      "text/plain": [
       "array([1])"
      ]
     },
     "execution_count": 35,
     "metadata": {},
     "output_type": "execute_result"
    }
   ],
   "source": [
    "example"
   ]
  },
  {
   "cell_type": "code",
   "execution_count": 36,
   "id": "859d5ab6",
   "metadata": {},
   "outputs": [],
   "source": [
    "# using matplotlib for visualtion"
   ]
  },
  {
   "cell_type": "code",
   "execution_count": 37,
   "id": "9ea5ed61",
   "metadata": {},
   "outputs": [],
   "source": [
    "x_new =np.linspace(0,3,100).reshape(-1,1)"
   ]
  },
  {
   "cell_type": "code",
   "execution_count": 38,
   "id": "0ac03f6d",
   "metadata": {},
   "outputs": [
    {
     "data": {
      "text/plain": [
       "array([[0.        ],\n",
       "       [0.03030303],\n",
       "       [0.06060606],\n",
       "       [0.09090909],\n",
       "       [0.12121212],\n",
       "       [0.15151515],\n",
       "       [0.18181818],\n",
       "       [0.21212121],\n",
       "       [0.24242424],\n",
       "       [0.27272727],\n",
       "       [0.3030303 ],\n",
       "       [0.33333333],\n",
       "       [0.36363636],\n",
       "       [0.39393939],\n",
       "       [0.42424242],\n",
       "       [0.45454545],\n",
       "       [0.48484848],\n",
       "       [0.51515152],\n",
       "       [0.54545455],\n",
       "       [0.57575758],\n",
       "       [0.60606061],\n",
       "       [0.63636364],\n",
       "       [0.66666667],\n",
       "       [0.6969697 ],\n",
       "       [0.72727273],\n",
       "       [0.75757576],\n",
       "       [0.78787879],\n",
       "       [0.81818182],\n",
       "       [0.84848485],\n",
       "       [0.87878788],\n",
       "       [0.90909091],\n",
       "       [0.93939394],\n",
       "       [0.96969697],\n",
       "       [1.        ],\n",
       "       [1.03030303],\n",
       "       [1.06060606],\n",
       "       [1.09090909],\n",
       "       [1.12121212],\n",
       "       [1.15151515],\n",
       "       [1.18181818],\n",
       "       [1.21212121],\n",
       "       [1.24242424],\n",
       "       [1.27272727],\n",
       "       [1.3030303 ],\n",
       "       [1.33333333],\n",
       "       [1.36363636],\n",
       "       [1.39393939],\n",
       "       [1.42424242],\n",
       "       [1.45454545],\n",
       "       [1.48484848],\n",
       "       [1.51515152],\n",
       "       [1.54545455],\n",
       "       [1.57575758],\n",
       "       [1.60606061],\n",
       "       [1.63636364],\n",
       "       [1.66666667],\n",
       "       [1.6969697 ],\n",
       "       [1.72727273],\n",
       "       [1.75757576],\n",
       "       [1.78787879],\n",
       "       [1.81818182],\n",
       "       [1.84848485],\n",
       "       [1.87878788],\n",
       "       [1.90909091],\n",
       "       [1.93939394],\n",
       "       [1.96969697],\n",
       "       [2.        ],\n",
       "       [2.03030303],\n",
       "       [2.06060606],\n",
       "       [2.09090909],\n",
       "       [2.12121212],\n",
       "       [2.15151515],\n",
       "       [2.18181818],\n",
       "       [2.21212121],\n",
       "       [2.24242424],\n",
       "       [2.27272727],\n",
       "       [2.3030303 ],\n",
       "       [2.33333333],\n",
       "       [2.36363636],\n",
       "       [2.39393939],\n",
       "       [2.42424242],\n",
       "       [2.45454545],\n",
       "       [2.48484848],\n",
       "       [2.51515152],\n",
       "       [2.54545455],\n",
       "       [2.57575758],\n",
       "       [2.60606061],\n",
       "       [2.63636364],\n",
       "       [2.66666667],\n",
       "       [2.6969697 ],\n",
       "       [2.72727273],\n",
       "       [2.75757576],\n",
       "       [2.78787879],\n",
       "       [2.81818182],\n",
       "       [2.84848485],\n",
       "       [2.87878788],\n",
       "       [2.90909091],\n",
       "       [2.93939394],\n",
       "       [2.96969697],\n",
       "       [3.        ]])"
      ]
     },
     "execution_count": 38,
     "metadata": {},
     "output_type": "execute_result"
    }
   ],
   "source": [
    "x_new"
   ]
  },
  {
   "cell_type": "code",
   "execution_count": 39,
   "id": "d5794a6d",
   "metadata": {},
   "outputs": [],
   "source": [
    "y_prob =clf.predict_proba(x_new)"
   ]
  },
  {
   "cell_type": "code",
   "execution_count": 40,
   "id": "24fafee4",
   "metadata": {},
   "outputs": [
    {
     "data": {
      "text/plain": [
       "array([[9.99250016e-01, 7.49984089e-04],\n",
       "       [9.99144871e-01, 8.55129018e-04],\n",
       "       [9.99025000e-01, 9.75000485e-04],\n",
       "       [9.98888343e-01, 1.11165677e-03],\n",
       "       [9.98732557e-01, 1.26744252e-03],\n",
       "       [9.98554972e-01, 1.44502825e-03],\n",
       "       [9.98352545e-01, 1.64745509e-03],\n",
       "       [9.98121814e-01, 1.87818556e-03],\n",
       "       [9.97858839e-01, 2.14116114e-03],\n",
       "       [9.97559133e-01, 2.44086741e-03],\n",
       "       [9.97217592e-01, 2.78240769e-03],\n",
       "       [9.96828414e-01, 3.17158633e-03],\n",
       "       [9.96384997e-01, 3.61500251e-03],\n",
       "       [9.95879844e-01, 4.12015601e-03],\n",
       "       [9.95304434e-01, 4.69556603e-03],\n",
       "       [9.94649095e-01, 5.35090451e-03],\n",
       "       [9.93902855e-01, 6.09714525e-03],\n",
       "       [9.93053270e-01, 6.94673039e-03],\n",
       "       [9.92086245e-01, 7.91375537e-03],\n",
       "       [9.90985826e-01, 9.01417387e-03],\n",
       "       [9.89733976e-01, 1.02660237e-02],\n",
       "       [9.88310326e-01, 1.16896743e-02],\n",
       "       [9.86691904e-01, 1.33080964e-02],\n",
       "       [9.84852847e-01, 1.51471530e-02],\n",
       "       [9.82764089e-01, 1.72359109e-02],\n",
       "       [9.80393031e-01, 1.96069695e-02],\n",
       "       [9.77703197e-01, 2.22968025e-02],\n",
       "       [9.74653893e-01, 2.53461073e-02],\n",
       "       [9.71199850e-01, 2.88001499e-02],\n",
       "       [9.67290904e-01, 3.27090959e-02],\n",
       "       [9.62871693e-01, 3.71283073e-02],\n",
       "       [9.57881415e-01, 4.21185851e-02],\n",
       "       [9.52253672e-01, 4.77463280e-02],\n",
       "       [9.45916426e-01, 5.40835739e-02],\n",
       "       [9.38792119e-01, 6.12078811e-02],\n",
       "       [9.30798000e-01, 6.92020001e-02],\n",
       "       [9.21846719e-01, 7.81532809e-02],\n",
       "       [9.11847246e-01, 8.81527542e-02],\n",
       "       [9.00706177e-01, 9.92938228e-02],\n",
       "       [8.88329498e-01, 1.11670502e-01],\n",
       "       [8.74624843e-01, 1.25375157e-01],\n",
       "       [8.59504301e-01, 1.40495699e-01],\n",
       "       [8.42887761e-01, 1.57112239e-01],\n",
       "       [8.24706777e-01, 1.75293223e-01],\n",
       "       [8.04908853e-01, 1.95091147e-01],\n",
       "       [7.83462012e-01, 2.16537988e-01],\n",
       "       [7.60359413e-01, 2.39640587e-01],\n",
       "       [7.35623729e-01, 2.64376271e-01],\n",
       "       [7.09310936e-01, 2.90689064e-01],\n",
       "       [6.81513116e-01, 3.18486884e-01],\n",
       "       [6.52359890e-01, 3.47640110e-01],\n",
       "       [6.22018132e-01, 3.77981868e-01],\n",
       "       [5.90689732e-01, 4.09310268e-01],\n",
       "       [5.58607315e-01, 4.41392685e-01],\n",
       "       [5.26028010e-01, 4.73971990e-01],\n",
       "       [4.93225575e-01, 5.06774425e-01],\n",
       "       [4.60481361e-01, 5.39518639e-01],\n",
       "       [4.28074731e-01, 5.71925269e-01],\n",
       "       [3.96273622e-01, 6.03726378e-01],\n",
       "       [3.65325917e-01, 6.34674083e-01],\n",
       "       [3.35452202e-01, 6.64547798e-01],\n",
       "       [3.06840317e-01, 6.93159683e-01],\n",
       "       [2.79641916e-01, 7.20358084e-01],\n",
       "       [2.53971052e-01, 7.46028948e-01],\n",
       "       [2.29904646e-01, 7.70095354e-01],\n",
       "       [2.07484521e-01, 7.92515479e-01],\n",
       "       [1.86720667e-01, 8.13279333e-01],\n",
       "       [1.67595315e-01, 8.32404685e-01],\n",
       "       [1.50067457e-01, 8.49932543e-01],\n",
       "       [1.34077471e-01, 8.65922529e-01],\n",
       "       [1.19551598e-01, 8.80448402e-01],\n",
       "       [1.06406067e-01, 8.93593933e-01],\n",
       "       [9.45507540e-02, 9.05449246e-01],\n",
       "       [8.38923040e-02, 9.16107696e-01],\n",
       "       [7.43367100e-02, 9.25663290e-01],\n",
       "       [6.57913623e-02, 9.34208638e-01],\n",
       "       [5.81666145e-02, 9.41833386e-01],\n",
       "       [5.13769237e-02, 9.48623076e-01],\n",
       "       [4.53416272e-02, 9.54658373e-01],\n",
       "       [3.99854189e-02, 9.60014581e-01],\n",
       "       [3.52385843e-02, 9.64761416e-01],\n",
       "       [3.10370477e-02, 9.68962952e-01],\n",
       "       [2.73222780e-02, 9.72677722e-01],\n",
       "       [2.40410911e-02, 9.75958909e-01],\n",
       "       [2.11453823e-02, 9.78854618e-01],\n",
       "       [1.85918124e-02, 9.81408188e-01],\n",
       "       [1.63414700e-02, 9.83658530e-01],\n",
       "       [1.43595223e-02, 9.85640478e-01],\n",
       "       [1.26148692e-02, 9.87385131e-01],\n",
       "       [1.10798050e-02, 9.88920195e-01],\n",
       "       [9.72969739e-03, 9.90270303e-01],\n",
       "       [8.54268328e-03, 9.91457317e-01],\n",
       "       [7.49938711e-03, 9.92500613e-01],\n",
       "       [6.58266009e-03, 9.93417340e-01],\n",
       "       [5.77734171e-03, 9.94222658e-01],\n",
       "       [5.07004264e-03, 9.94929957e-01],\n",
       "       [4.44894815e-03, 9.95551052e-01],\n",
       "       [3.90364096e-03, 9.96096359e-01],\n",
       "       [3.42494209e-03, 9.96575058e-01],\n",
       "       [3.00476842e-03, 9.96995232e-01]])"
      ]
     },
     "execution_count": 40,
     "metadata": {},
     "output_type": "execute_result"
    }
   ],
   "source": [
    "y_prob"
   ]
  },
  {
   "cell_type": "code",
   "execution_count": 41,
   "id": "82e5e8dd",
   "metadata": {},
   "outputs": [
    {
     "data": {
      "text/plain": [
       "[<matplotlib.lines.Line2D at 0x23c435fd040>]"
      ]
     },
     "execution_count": 41,
     "metadata": {},
     "output_type": "execute_result"
    },
    {
     "data": {
      "image/png": "[encoded data removed]",
      "text/plain": [
       "<Figure size 432x288 with 1 Axes>"
      ]
     },
     "metadata": {
      "needs_background": "light"
     },
     "output_type": "display_data"
    }
   ],
   "source": [
    "plt.plot(x_new,y_prob[:,1],\"g-\", label=\"Virginica\")"
   ]
  },
  {
   "cell_type": "code",
   "execution_count": null,
   "id": "de5f4b90",
   "metadata": {},
   "outputs": [],
   "source": []
  },
  {
   "cell_type": "code",
   "execution_count": null,
   "id": "9e6d76e5",
   "metadata": {},
   "outputs": [],
   "source": []
  }
 ],
 "metadata": {
  "kernelspec": {
   "display_name": "Python 3",
   "language": "python",
   "name": "python3"
  },
  "language_info": {
   "codemirror_mode": {
    "name": "ipython",
    "version": 3
   },
   "file_extension": ".py",
   "mimetype": "text/x-python",
   "name": "python",
   "nbconvert_exporter": "python",
   "pygments_lexer": "ipython3",
   "version": "3.8.8"
  }
 },
 "nbformat": 4,
 "nbformat_minor": 5
}
